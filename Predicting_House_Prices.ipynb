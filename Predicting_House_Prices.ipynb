{
  "nbformat": 4,
  "nbformat_minor": 0,
  "metadata": {
    "colab": {
      "provenance": [],
      "authorship_tag": "ABX9TyO3FDJAVlHvu/ISE2VbRtSV"
    },
    "kernelspec": {
      "name": "python3",
      "display_name": "Python 3"
    },
    "language_info": {
      "name": "python"
    }
  },
  "cells": [
    {
      "cell_type": "code",
      "execution_count": null,
      "metadata": {
        "id": "xX2a7U8SLkSL"
      },
      "outputs": [],
      "source": [
        "import numpy as np\n",
        "import matplotlib.pyplot as plt\n",
        "from sklearn.model_selection import train_test_split\n",
        "from sklearn.preprocessing import PolynomialFeatures\n",
        "from sklearn.linear_model import LinearRegression\n",
        "from sklearn.metrics import mean_squared_error, r2_score\n",
        "from sklearn.preprocessing import LabelEncoder, StandardScaler,MinMaxScaler\n",
        "import pandas as pd\n"
      ]
    },
    {
      "cell_type": "markdown",
      "source": [
        "read Data\n"
      ],
      "metadata": {
        "id": "ANTHQK4DVdSP"
      }
    },
    {
      "cell_type": "code",
      "source": [
        "df = pd.read_csv(\"/content/train.csv\")"
      ],
      "metadata": {
        "id": "FCKXhMDwNhhm"
      },
      "execution_count": null,
      "outputs": []
    },
    {
      "cell_type": "markdown",
      "source": [
        "drop duplicated row"
      ],
      "metadata": {
        "id": "cbfm3ryCd49P"
      }
    },
    {
      "cell_type": "code",
      "source": [
        "df= df.drop_duplicates()"
      ],
      "metadata": {
        "id": "ghyXJ7WBdqE4"
      },
      "execution_count": null,
      "outputs": []
    },
    {
      "cell_type": "markdown",
      "source": [
        "handle null vallues"
      ],
      "metadata": {
        "id": "I1WfiRG5VizL"
      }
    },
    {
      "cell_type": "code",
      "source": [
        "def drop_columns_with_high_null_percentage(df, threshold=0.7):\n",
        "    # Calculate the null percentage for each column\n",
        "    null_percentage = df.isnull().mean()\n",
        "\n",
        "    # Identify columns with null percentage exceeding the threshold\n",
        "    columns_to_drop = null_percentage[null_percentage > threshold].index.tolist()\n",
        "\n",
        "    # Drop the identified columns\n",
        "    df_dropped = df.drop(columns=columns_to_drop)\n",
        "\n",
        "    for column in df_dropped.columns:\n",
        "        if df_dropped[column].dtype == 'object':\n",
        "            # For categorical columns, fill with the mode\n",
        "            mode_value = df_dropped[column].mode()[0]\n",
        "            df_dropped[column].fillna(mode_value, inplace=True)\n",
        "        else:\n",
        "            # For numeric columns, fill with the mean\n",
        "            mean_value = df_dropped[column].mean()\n",
        "            df_dropped[column].fillna(mean_value, inplace=True)\n",
        "\n",
        "    return df_dropped\n",
        "\n",
        "    df = drop_columns_with_high_null_percentage(df, threshold=0.7)\n"
      ],
      "metadata": {
        "id": "kxPH0s9sPRq2"
      },
      "execution_count": null,
      "outputs": []
    },
    {
      "cell_type": "markdown",
      "source": [
        "encoding categoral values"
      ],
      "metadata": {
        "id": "x2FFebpYVt1H"
      }
    },
    {
      "cell_type": "code",
      "source": [
        "def encoding_categoral_data(data, columns):\n",
        "    lbl = LabelEncoder()\n",
        "    df_encoded_categoral = data[columns].apply(lbl.fit_transform)\n",
        "    return df_encoded_categoral"
      ],
      "metadata": {
        "id": "Qv_3HUGqPdVd"
      },
      "execution_count": null,
      "outputs": []
    },
    {
      "cell_type": "markdown",
      "source": [
        "numerical features Scaling"
      ],
      "metadata": {
        "id": "accPkSkYV0Un"
      }
    },
    {
      "cell_type": "code",
      "source": [
        "def scaling_numerical_data_feature(data, columns):\n",
        "    scaler = StandardScaler()\n",
        "    scaled_numerical_column = scaler.fit_transform(data[columns])\n",
        "\n",
        "    scaled_numerical_df = pd.DataFrame(scaled_numerical_column, columns=columns)\n",
        "    return scaled_numerical_df"
      ],
      "metadata": {
        "id": "HWMZpYFcPhYY"
      },
      "execution_count": null,
      "outputs": []
    },
    {
      "cell_type": "markdown",
      "source": [
        "Handle outliers  "
      ],
      "metadata": {
        "id": "wDi1AxRWV7d9"
      }
    },
    {
      "cell_type": "code",
      "source": [
        "def handle_outliers(data, columns):\n",
        "    for i in numerical_columns:\n",
        "        Q1: float = df[i].quantile(0.25)\n",
        "        Q3: float = df[i].quantile(0.75)\n",
        "        IQR = Q3 - Q1\n",
        "        up_limit: float = Q3 + 1.5 * IQR\n",
        "        low_limit: float = Q1 - 1.5 * IQR\n",
        "        df.loc[df[i] > up_limit, i]: float = up_limit\n",
        "        df.loc[df[i] < low_limit, i]: float = low_limit"
      ],
      "metadata": {
        "id": "H4Zm796zPlge"
      },
      "execution_count": null,
      "outputs": []
    },
    {
      "cell_type": "markdown",
      "source": [
        "Divide values into categorical and numerical"
      ],
      "metadata": {
        "id": "LLN6tlB4WBcn"
      }
    },
    {
      "cell_type": "code",
      "source": [
        "categorical_columns = df.select_dtypes(include=['object']).columns\n",
        "numerical_columns = df.select_dtypes(include=['int64', 'float64']).columns"
      ],
      "metadata": {
        "id": "8BEQSUIKPpoB"
      },
      "execution_count": null,
      "outputs": []
    },
    {
      "cell_type": "code",
      "source": [
        "handle_outliers(df, numerical_columns)\n",
        "\n",
        "numerical_columns = numerical_columns.delete(-1)\n",
        "\n",
        "df_encoded_categoral = encoding_categoral_data(df, categorical_columns)\n",
        "\n",
        "scaled_numerical_df = scaling_numerical_data_feature(df, numerical_columns)"
      ],
      "metadata": {
        "id": "mOk51jc4PvTO"
      },
      "execution_count": null,
      "outputs": []
    },
    {
      "cell_type": "markdown",
      "source": [
        "target Scaling"
      ],
      "metadata": {
        "id": "jcwRfO8AWpW-"
      }
    },
    {
      "cell_type": "code",
      "source": [
        "sale = [\"SalePrice\"]\n",
        "scaler_y = MinMaxScaler(feature_range=(0, 1))\n",
        "scaled_y = scaler_y.fit_transform(df[['SalePrice']])\n",
        "\n",
        "scaled_numerical_target_y = pd.DataFrame(scaled_y, columns=sale)"
      ],
      "metadata": {
        "id": "6j20vFz2QBed"
      },
      "execution_count": null,
      "outputs": []
    },
    {
      "cell_type": "markdown",
      "source": [
        "Combine data"
      ],
      "metadata": {
        "id": "nww4BxCIWtxe"
      }
    },
    {
      "cell_type": "code",
      "source": [
        "df_final = pd.concat([df_encoded_categoral, scaled_numerical_df, scaled_numerical_target_y], axis=1)"
      ],
      "metadata": {
        "id": "3M-22brqQCJf"
      },
      "execution_count": null,
      "outputs": []
    },
    {
      "cell_type": "markdown",
      "source": [
        "Spliting Data into training and testing"
      ],
      "metadata": {
        "id": "s6gyaQLPWxc9"
      }
    },
    {
      "cell_type": "code",
      "source": [
        "X = df_final.drop(columns=['SalePrice'])\n",
        "y = df_final['SalePrice']\n",
        "\n",
        "\n",
        "X_train, X_test, y_train, y_test = train_test_split(X, y, test_size=0.2, random_state=42)"
      ],
      "metadata": {
        "id": "gbsaw_kQQFKo"
      },
      "execution_count": null,
      "outputs": []
    },
    {
      "cell_type": "markdown",
      "source": [
        "Train and Model"
      ],
      "metadata": {
        "id": "2UTFmLFzW-4h"
      }
    },
    {
      "cell_type": "code",
      "source": [
        "# Step 2: Polynomial Feature Generation\n",
        "degree = 1  # You can adjust the degree of the polynomial\n",
        "poly = PolynomialFeatures(degree=degree)\n",
        "X_train_poly = poly.fit_transform(X_train)\n",
        "X_test_poly = poly.transform(X_test)\n",
        "\n",
        "# Step 3: Model Selection (Polynomial Regression)\n",
        "model = LinearRegression()\n",
        "\n",
        "# Step 4: Training the Model\n",
        "model.fit(X_train_poly, y_train)\n",
        "\n",
        "# Step 5: Evaluate the Model\n",
        "y_pred = model.predict(X_test_poly)\n",
        "\n"
      ],
      "metadata": {
        "id": "KqJtIbSCQIAM"
      },
      "execution_count": null,
      "outputs": []
    },
    {
      "cell_type": "markdown",
      "source": [
        "Evalute the Model"
      ],
      "metadata": {
        "id": "rYqD1Yb1Xi1n"
      }
    },
    {
      "cell_type": "code",
      "source": [
        "from sklearn.metrics._plot.confusion_matrix import confusion_matrix\n",
        "mse = mean_squared_error(y_test, y_pred)\n",
        "rmse = np.sqrt(mse)\n",
        "r2 = r2_score(y_test, y_pred)\n",
        "\n",
        "print(f'Mean Squared Error: {mse}')\n",
        "print(f'Root Mean Squared Error: {rmse}')\n",
        "print(f'R-squared (R2): {r2}')\n",
        "\n",
        "\n",
        "\n",
        "plt.scatter(y_test, y_pred)\n",
        "plt.plot(y_test, y_test, color='red')\n",
        "plt.xlabel('y-test data')\n",
        "plt.ylabel('predicted data (polynomial)')\n",
        "plt.show()"
      ],
      "metadata": {
        "colab": {
          "base_uri": "https://localhost:8080/",
          "height": 504
        },
        "id": "Pf3STzmSXiMV",
        "outputId": "1ab739c5-0c19-4ecc-e82f-3e50f1b9c613"
      },
      "execution_count": null,
      "outputs": [
        {
          "output_type": "stream",
          "name": "stdout",
          "text": [
            "Mean Squared Error: 0.00544604772595352\n",
            "Root Mean Squared Error: 0.07379734226890235\n",
            "R-squared (R2): 0.8962876753806254\n"
          ]
        },
        {
          "output_type": "display_data",
          "data": {
            "text/plain": [
              "<Figure size 640x480 with 1 Axes>"
            ],
            "image/png": "[encoded data removed]"
          },
          "metadata": {}
        }
      ]
    },
    {
      "cell_type": "markdown",
      "source": [
        "preprocessing on the test data"
      ],
      "metadata": {
        "id": "ZJYkGo-dY2_I"
      }
    },
    {
      "cell_type": "code",
      "source": [
        "data_test = pd.read_csv('/content/test.csv')\n",
        "\n",
        "\n",
        "\n",
        "data_test=drop_columns_with_high_null_percentage(data_test, threshold=0.7)\n",
        "\n",
        "categorical_columns_df2 = data_test.select_dtypes(include=['object']).columns\n",
        "numerical_columns_df2 = data_test.select_dtypes(include=['int64', 'float64']).columns\n",
        "\n",
        "#outliers\n",
        "handle_outliers(data_test,numerical_columns_df2)\n",
        "\n",
        "\n",
        "df2_encoded_categoral = encoding_categoral_data(data_test,categorical_columns_df2)\n",
        "scaled_numerical_df2 = scaling_numerical_data_feature(data_test,numerical_columns_df2)\n",
        "\n",
        "data_test_final = pd.concat([df2_encoded_categoral,scaled_numerical_df2],axis =1)\n",
        "\n",
        "\n",
        "\n",
        "\n"
      ],
      "metadata": {
        "id": "0FyBVqUsQPm_"
      },
      "execution_count": null,
      "outputs": []
    },
    {
      "cell_type": "markdown",
      "source": [
        "model"
      ],
      "metadata": {
        "id": "ldHIZ15BaunF"
      }
    },
    {
      "cell_type": "code",
      "source": [
        "degree = 1 # You can adjust the degree of the polynomial\n",
        "poly = PolynomialFeatures(degree=degree)\n",
        "X_train_poly = poly.fit_transform(X_train)\n",
        "data_test_final = poly.transform(data_test_final)\n",
        "\n",
        "# Step 3: Model Selection (Polynomial Regression)\n",
        "model = LinearRegression()\n",
        "\n",
        "# Step 4: Training the Model\n",
        "model.fit(X_train_poly, y_train)\n",
        "\n",
        "\n",
        "y_pred = model.predict(data_test_final)"
      ],
      "metadata": {
        "id": "YAVVEd__aaqX"
      },
      "execution_count": null,
      "outputs": []
    },
    {
      "cell_type": "markdown",
      "source": [
        "predicted values"
      ],
      "metadata": {
        "id": "fgWgmR6Law-C"
      }
    },
    {
      "cell_type": "code",
      "source": [
        "original_data = scaler_y.inverse_transform(y_pred.reshape(-1, 1))\n",
        "\n",
        "print(\"the first ten predicted results from the test file \\n\" , original_data[:10])"
      ],
      "metadata": {
        "colab": {
          "base_uri": "https://localhost:8080/"
        },
        "id": "FyoLeXLyaja3",
        "outputId": "cee758c5-6e1d-42a2-ffd4-215f36b1b7e8"
      },
      "execution_count": null,
      "outputs": [
        {
          "output_type": "stream",
          "name": "stdout",
          "text": [
            "the first ten predicted results from the test file \n",
            " [[154881.29494277]\n",
            " [308539.60767672]\n",
            " [112661.75169468]\n",
            " [171445.40347449]\n",
            " [298685.53756347]\n",
            " [ 74489.57571284]\n",
            " [225453.72639335]\n",
            " [134089.75390209]\n",
            " [ 71310.96621278]\n",
            " [140624.73114923]]\n"
          ]
        }
      ]
    }
  ]
}